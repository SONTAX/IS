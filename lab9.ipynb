{
 "cells": [
  {
   "cell_type": "code",
   "execution_count": 1,
   "metadata": {
    "collapsed": true
   },
   "outputs": [],
   "source": [
    "import os\n",
    "\n",
    "import matplotlib.pyplot as plt\n",
    "import numpy as np\n",
    "import pandas as pd\n",
    "import tensorflow as tf\n",
    "from keras.optimizers import Adam\n",
    "from sklearn.model_selection import train_test_split\n",
    "from sklearn.preprocessing import LabelEncoder\n",
    "from tensorflow import keras"
   ]
  },
  {
   "cell_type": "code",
   "execution_count": 17,
   "outputs": [],
   "source": [
    "df = pd.read_csv('MobileDataSet.csv')"
   ],
   "metadata": {
    "collapsed": false
   }
  },
  {
   "cell_type": "code",
   "execution_count": 18,
   "outputs": [],
   "source": [
    "df = df[['brand', 'base_color', 'processor', 'screen_size', 'ROM', 'RAM', 'display_size', 'num_rear_camera', 'num_front_camera', 'battery_capacity', 'sales_price', 'sales']]\n",
    "encoder = LabelEncoder()\n",
    "df['brand'] = encoder.fit_transform(df['brand'])\n",
    "df['base_color'] = encoder.fit_transform(df['base_color'])\n",
    "df['processor'] = encoder.fit_transform(df['processor'])\n",
    "df['screen_size'] = encoder.fit_transform(df['screen_size'])"
   ],
   "metadata": {
    "collapsed": false
   }
  },
  {
   "cell_type": "code",
   "execution_count": 19,
   "outputs": [],
   "source": [
    "X = df.drop(['sales_price'], axis=1)\n",
    "y = df['sales_price']"
   ],
   "metadata": {
    "collapsed": false
   }
  },
  {
   "cell_type": "code",
   "execution_count": 20,
   "outputs": [
    {
     "data": {
      "text/plain": "   brand  base_color  processor  screen_size  ROM  RAM  display_size   \n0      0           0          5            4   64    2           4.7  \\\n1      0           8          0            2   64    4           5.4   \n2      0           8          5            4   64    2           4.7   \n3      0           6          6            1   64    3           6.1   \n4      0           8          0            1  128    4           6.1   \n\n   num_rear_camera  num_front_camera  battery_capacity   sales  \n0                1                 1              1800  127.52  \n1                2                 1              2815    1.39  \n2                1                 1              1800  127.52  \n3                1                 1              2942   23.07  \n4                2                 1              2815    5.15  ",
      "text/html": "<div>\n<style scoped>\n    .dataframe tbody tr th:only-of-type {\n        vertical-align: middle;\n    }\n\n    .dataframe tbody tr th {\n        vertical-align: top;\n    }\n\n    .dataframe thead th {\n        text-align: right;\n    }\n</style>\n<table border=\"1\" class=\"dataframe\">\n  <thead>\n    <tr style=\"text-align: right;\">\n      <th></th>\n      <th>brand</th>\n      <th>base_color</th>\n      <th>processor</th>\n      <th>screen_size</th>\n      <th>ROM</th>\n      <th>RAM</th>\n      <th>display_size</th>\n      <th>num_rear_camera</th>\n      <th>num_front_camera</th>\n      <th>battery_capacity</th>\n      <th>sales</th>\n    </tr>\n  </thead>\n  <tbody>\n    <tr>\n      <th>0</th>\n      <td>0</td>\n      <td>0</td>\n      <td>5</td>\n      <td>4</td>\n      <td>64</td>\n      <td>2</td>\n      <td>4.7</td>\n      <td>1</td>\n      <td>1</td>\n      <td>1800</td>\n      <td>127.52</td>\n    </tr>\n    <tr>\n      <th>1</th>\n      <td>0</td>\n      <td>8</td>\n      <td>0</td>\n      <td>2</td>\n      <td>64</td>\n      <td>4</td>\n      <td>5.4</td>\n      <td>2</td>\n      <td>1</td>\n      <td>2815</td>\n      <td>1.39</td>\n    </tr>\n    <tr>\n      <th>2</th>\n      <td>0</td>\n      <td>8</td>\n      <td>5</td>\n      <td>4</td>\n      <td>64</td>\n      <td>2</td>\n      <td>4.7</td>\n      <td>1</td>\n      <td>1</td>\n      <td>1800</td>\n      <td>127.52</td>\n    </tr>\n    <tr>\n      <th>3</th>\n      <td>0</td>\n      <td>6</td>\n      <td>6</td>\n      <td>1</td>\n      <td>64</td>\n      <td>3</td>\n      <td>6.1</td>\n      <td>1</td>\n      <td>1</td>\n      <td>2942</td>\n      <td>23.07</td>\n    </tr>\n    <tr>\n      <th>4</th>\n      <td>0</td>\n      <td>8</td>\n      <td>0</td>\n      <td>1</td>\n      <td>128</td>\n      <td>4</td>\n      <td>6.1</td>\n      <td>2</td>\n      <td>1</td>\n      <td>2815</td>\n      <td>5.15</td>\n    </tr>\n  </tbody>\n</table>\n</div>"
     },
     "execution_count": 20,
     "metadata": {},
     "output_type": "execute_result"
    }
   ],
   "source": [
    "X.head()"
   ],
   "metadata": {
    "collapsed": false
   }
  },
  {
   "cell_type": "code",
   "execution_count": 21,
   "outputs": [],
   "source": [
    "X_train_full, X_test, y_train_full, y_test = train_test_split(X, y, test_size=0.2, random_state=42)"
   ],
   "metadata": {
    "collapsed": false
   }
  },
  {
   "cell_type": "code",
   "execution_count": 22,
   "outputs": [],
   "source": [
    "X_train, X_val, y_train, y_val = train_test_split(X_train_full, y_train_full, test_size=0.2, random_state=42)"
   ],
   "metadata": {
    "collapsed": false
   }
  },
  {
   "cell_type": "code",
   "execution_count": 23,
   "outputs": [
    {
     "data": {
      "text/plain": "(275, 11)"
     },
     "execution_count": 23,
     "metadata": {},
     "output_type": "execute_result"
    }
   ],
   "source": [
    "X_train.shape"
   ],
   "metadata": {
    "collapsed": false
   }
  },
  {
   "cell_type": "code",
   "execution_count": 24,
   "outputs": [],
   "source": [
    "y_train = y_train.to_numpy().reshape(-1)"
   ],
   "metadata": {
    "collapsed": false
   }
  },
  {
   "cell_type": "code",
   "execution_count": 25,
   "outputs": [
    {
     "data": {
      "text/plain": "(275,)"
     },
     "execution_count": 25,
     "metadata": {},
     "output_type": "execute_result"
    }
   ],
   "source": [
    "y_train.shape"
   ],
   "metadata": {
    "collapsed": false
   }
  },
  {
   "cell_type": "code",
   "execution_count": 26,
   "outputs": [],
   "source": [
    "K = keras.backend\n",
    "\n",
    "\n",
    "class ExponentialLearningRate(keras.callbacks.Callback):\n",
    "    def __init__(self, factor):\n",
    "        super().__init__()\n",
    "        self.factor = factor\n",
    "        self.rates = []\n",
    "        self.losses = []\n",
    "\n",
    "    def on_batch_end(self, batch, logs):\n",
    "        self.rates.append(K.get_value(self.model.optimizer.learning_rate))\n",
    "        self.losses.append(logs[\"loss\"])\n",
    "        K.set_value(self.model.optimizer.learning_rate, self.model.optimizer.learning_rate * self.factor)"
   ],
   "metadata": {
    "collapsed": false
   }
  },
  {
   "cell_type": "code",
   "execution_count": 27,
   "outputs": [],
   "source": [
    "keras.backend.clear_session()\n",
    "np.random.seed(42)\n",
    "tf.random.set_seed(42)"
   ],
   "metadata": {
    "collapsed": false
   }
  },
  {
   "cell_type": "code",
   "execution_count": 28,
   "outputs": [],
   "source": [
    "model = keras.models.Sequential([\n",
    "    keras.layers.Dense(300, activation=\"relu\"),\n",
    "    keras.layers.Dense(100, activation=\"relu\"),\n",
    "    keras.layers.Dense(1, activation=\"relu\")\n",
    "])"
   ],
   "metadata": {
    "collapsed": false
   }
  },
  {
   "cell_type": "code",
   "execution_count": 29,
   "outputs": [],
   "source": [
    "model.compile(loss='mean_squared_error', optimizer=Adam(learning_rate=1e-3))\n",
    "expon_lr = ExponentialLearningRate(factor=1.005)"
   ],
   "metadata": {
    "collapsed": false
   }
  },
  {
   "cell_type": "code",
   "execution_count": 30,
   "outputs": [
    {
     "name": "stdout",
     "output_type": "stream",
     "text": [
      "1/9 [==>...........................] - ETA: 2s - loss: 1796560896.0000WARNING:tensorflow:Callback method `on_train_batch_end` is slow compared to the batch time (batch time: 0.0000s vs `on_train_batch_end` time: 0.0017s). Check your callbacks.\n",
      "9/9 [==============================] - 0s 19ms/step - loss: 1180281344.0000 - val_loss: 834551424.0000\n"
     ]
    }
   ],
   "source": [
    "history = model.fit(X_train, y_train, epochs=1,\n",
    "                    validation_data=(X_val, y_val),\n",
    "                    callbacks=[expon_lr])"
   ],
   "metadata": {
    "collapsed": false
   }
  },
  {
   "cell_type": "code",
   "execution_count": 31,
   "outputs": [
    {
     "data": {
      "text/plain": "Text(0, 0.5, 'Loss')"
     },
     "execution_count": 31,
     "metadata": {},
     "output_type": "execute_result"
    },
    {
     "data": {
      "text/plain": "<Figure size 640x480 with 1 Axes>",
      "image/png": "[encoded data removed]"
     },
     "metadata": {},
     "output_type": "display_data"
    }
   ],
   "source": [
    "plt.plot(expon_lr.rates, expon_lr.losses)\n",
    "plt.gca().set_xscale('log')\n",
    "plt.hlines(min(expon_lr.losses), min(expon_lr.rates), max(expon_lr.rates))\n",
    "plt.axis([min(expon_lr.rates), max(expon_lr.rates), 0, expon_lr.losses[0]])\n",
    "plt.grid()\n",
    "plt.xlabel(\"Learning rate\")\n",
    "plt.ylabel(\"Loss\")"
   ],
   "metadata": {
    "collapsed": false
   }
  },
  {
   "cell_type": "code",
   "execution_count": 32,
   "outputs": [
    {
     "data": {
      "text/plain": "'.\\\\phones_logs\\\\run_001'"
     },
     "execution_count": 32,
     "metadata": {},
     "output_type": "execute_result"
    }
   ],
   "source": [
    "run_index = 1\n",
    "run_logdir = os.path.join(os.curdir, \"phones_logs\", \"run_{:03d}\".format(run_index))\n",
    "run_logdir"
   ],
   "metadata": {
    "collapsed": false
   }
  },
  {
   "cell_type": "code",
   "execution_count": 33,
   "outputs": [],
   "source": [
    "keras.backend.clear_session()\n",
    "np.random.seed(42)\n",
    "tf.random.set_seed(42)"
   ],
   "metadata": {
    "collapsed": false
   }
  },
  {
   "cell_type": "code",
   "execution_count": 34,
   "outputs": [],
   "source": [
    "model = keras.models.Sequential([\n",
    "    keras.layers.Dense(300, activation=\"relu\"),\n",
    "    keras.layers.Dense(100, activation=\"relu\"),\n",
    "    keras.layers.Dense(1, activation=\"relu\")\n",
    "])"
   ],
   "metadata": {
    "collapsed": false
   }
  },
  {
   "cell_type": "code",
   "execution_count": 68,
   "outputs": [],
   "source": [
    "model.compile(loss='mean_squared_error', optimizer=Adam(learning_rate=5e-3))\n",
    "expon_lr = ExponentialLearningRate(factor=1.015)"
   ],
   "metadata": {
    "collapsed": false
   }
  },
  {
   "cell_type": "code",
   "execution_count": 69,
   "outputs": [
    {
     "name": "stdout",
     "output_type": "stream",
     "text": [
      "Epoch 1/100\n",
      "9/9 [==============================] - 1s 57ms/step - loss: 1234228224.0000 - val_loss: 940014144.0000\n",
      "Epoch 2/100\n",
      "9/9 [==============================] - 0s 19ms/step - loss: 1234228224.0000 - val_loss: 940014144.0000\n",
      "Epoch 3/100\n",
      "9/9 [==============================] - 0s 22ms/step - loss: 1234228224.0000 - val_loss: 940014144.0000\n",
      "Epoch 4/100\n",
      "9/9 [==============================] - 0s 20ms/step - loss: 1234228224.0000 - val_loss: 940014144.0000\n",
      "Epoch 5/100\n",
      "9/9 [==============================] - 0s 13ms/step - loss: 1234228352.0000 - val_loss: 940014144.0000\n",
      "Epoch 6/100\n",
      "9/9 [==============================] - 0s 14ms/step - loss: 1234228224.0000 - val_loss: 940014144.0000\n",
      "Epoch 7/100\n",
      "9/9 [==============================] - 0s 14ms/step - loss: 1234228224.0000 - val_loss: 940014144.0000\n",
      "Epoch 8/100\n",
      "9/9 [==============================] - 0s 16ms/step - loss: 1234228352.0000 - val_loss: 940014144.0000\n",
      "Epoch 9/100\n",
      "9/9 [==============================] - 0s 14ms/step - loss: 1234228352.0000 - val_loss: 940014144.0000\n",
      "Epoch 10/100\n",
      "9/9 [==============================] - 0s 14ms/step - loss: 1234228224.0000 - val_loss: 940014144.0000\n",
      "Epoch 11/100\n",
      "9/9 [==============================] - 0s 16ms/step - loss: 1234228352.0000 - val_loss: 940014144.0000\n",
      "Epoch 12/100\n",
      "9/9 [==============================] - 0s 14ms/step - loss: 1234228224.0000 - val_loss: 940014144.0000\n",
      "Epoch 13/100\n",
      "9/9 [==============================] - 0s 14ms/step - loss: 1234228224.0000 - val_loss: 940014144.0000\n",
      "Epoch 14/100\n",
      "9/9 [==============================] - 0s 22ms/step - loss: 1234228352.0000 - val_loss: 940014144.0000\n",
      "Epoch 15/100\n",
      "9/9 [==============================] - 0s 14ms/step - loss: 1234228224.0000 - val_loss: 940014144.0000\n",
      "Epoch 16/100\n",
      "9/9 [==============================] - 0s 25ms/step - loss: 1234228224.0000 - val_loss: 940014144.0000\n",
      "Epoch 17/100\n",
      "9/9 [==============================] - 0s 26ms/step - loss: 1234228224.0000 - val_loss: 940014144.0000\n",
      "Epoch 18/100\n",
      "9/9 [==============================] - 0s 25ms/step - loss: 1234228224.0000 - val_loss: 940014144.0000\n",
      "Epoch 19/100\n",
      "9/9 [==============================] - 0s 25ms/step - loss: 1234228224.0000 - val_loss: 940014144.0000\n",
      "Epoch 20/100\n",
      "9/9 [==============================] - 0s 25ms/step - loss: 1234228352.0000 - val_loss: 940014144.0000\n",
      "Epoch 21/100\n",
      "9/9 [==============================] - 0s 47ms/step - loss: 1234228224.0000 - val_loss: 940014144.0000\n"
     ]
    }
   ],
   "source": [
    "early_stopping_cb = keras.callbacks.EarlyStopping(patience=20)\n",
    "checkpoint_cb = keras.callbacks.ModelCheckpoint(\"best_phones_model.h5\", save_best_only=True)\n",
    "tensorboard_cb = keras.callbacks.TensorBoard(run_logdir)\n",
    "\n",
    "history = model.fit(X_train, y_train, epochs=100,\n",
    "                    validation_data=(X_val, y_val),\n",
    "                    callbacks=[checkpoint_cb, early_stopping_cb, tensorboard_cb])"
   ],
   "metadata": {
    "collapsed": false
   }
  },
  {
   "cell_type": "code",
   "execution_count": 70,
   "outputs": [
    {
     "name": "stdout",
     "output_type": "stream",
     "text": [
      "3/3 [==============================] - 0s 0s/step - loss: 1052454976.0000\n"
     ]
    },
    {
     "data": {
      "text/plain": "1052454976.0"
     },
     "execution_count": 70,
     "metadata": {},
     "output_type": "execute_result"
    }
   ],
   "source": [
    "model = keras.models.load_model(\"best_phones_model.h5\")  # rollback to best model\n",
    "model.evaluate(X_test, y_test)"
   ],
   "metadata": {
    "collapsed": false
   }
  },
  {
   "cell_type": "code",
   "execution_count": 71,
   "outputs": [],
   "source": [
    "%reload_ext tensorboard"
   ],
   "metadata": {
    "collapsed": false
   }
  },
  {
   "cell_type": "code",
   "execution_count": 73,
   "outputs": [
    {
     "data": {
      "text/plain": "Launching TensorBoard..."
     },
     "metadata": {},
     "output_type": "display_data"
    }
   ],
   "source": [
    "%tensorboard --logdir=./phones_logs --port=6009"
   ],
   "metadata": {
    "collapsed": false
   }
  }
 ],
 "metadata": {
  "kernelspec": {
   "display_name": "Python 3",
   "language": "python",
   "name": "python3"
  },
  "language_info": {
   "codemirror_mode": {
    "name": "ipython",
    "version": 2
   },
   "file_extension": ".py",
   "mimetype": "text/x-python",
   "name": "python",
   "nbconvert_exporter": "python",
   "pygments_lexer": "ipython2",
   "version": "2.7.6"
  }
 },
 "nbformat": 4,
 "nbformat_minor": 0
}
