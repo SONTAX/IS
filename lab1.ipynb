{
 "cells": [
  {
   "cell_type": "code",
<<<<<<< HEAD
   "execution_count": 9,
=======
   "execution_count": 3,
>>>>>>> origin/master
   "outputs": [
    {
     "data": {
      "text/plain": "<IPython.core.display.HTML object>",
<<<<<<< HEAD
      "text/html": "# <center>**Greece**</center>\n## <div style=\"color: red;border-radius:8px;border:4px double brown;background: #eee;text-align: center\">Hellenic Republiс</div>\n\n<center>\n<img src='https://upload.wikimedia.org/wikipedia/commons/thumb/5/5c/Flag_of_Greece.svg/1280px-Flag_of_Greece.svg.png' width=\"200px\" height=\"200px\"/>\n<a href=\"https://en.wikipedia.org/wiki/Greece#/media/File:Flag_of_Greece.svg\">Flag</a>\n</center>\n\n<table>\n    <tr>\n        <th colspan=\"2\">Common data</th>\n    </tr>\n    <tr>\n        <td>Capital</td>\n        <td>Athens</td>\n    </tr>\n    <tr>\n        <td>Religion</td>\n        <td>\n            <li>93% Christianity</li>\n            <li>4% no religion</li>\n            <li>2% Islam</li>\n            <li>1% other</li>\n        </td>\n    </tr>\n    <tr>\n        <td>Population</td>\n        <td>10,482,487</td>\n    </tr>\n    <tr>\n        <td>Official language</td>\n        <td>Greek</td>\n    </tr>\n    <tr>\n        <td>Area</td>\n        <td>131,957km<sup>2</sup></td>\n    </tr>\n    <tr>\n        <td>President</td>\n        <td>Katerina Sakellaropoulou</td>\n    </tr>\n    <tr>\n        <td>Prime minister</td>\n        <td>Kyriakos Mitsotakis</td>\n    </tr>\n</table>\n\nFamous people from Greece:\n<ul>\n    <li><i>Cinema</li>\n    <ol>\n        <li><a href=\"https://en.wikipedia.org/wiki/Pavlos_Kourtidis\" title=\"Pavlos Kourtidis\">Pavlos Kourtidis </a></li>\n        <li><a href=\"https://en.wikipedia.org/wiki/Giorgos_Velentzas\" title=\"Giorgos Velentzas\">Giorgos Velentzas</a></li>\n        <li><a href=\"https://en.wikipedia.org/wiki/Nora_Valsami\" title=\"Nora Valsami\">Nora Valsamiø</a></li>\n        <li><a href=\"https://en.wikipedia.org/wiki/Irene_Papas\" title=\"Irene Papas\">Irene_Papas</a></li>\n    </ol>\n    <li><i>Music</li>\n    <ol>\n        <li><a href=\"https://en.wikipedia.org/wiki/Miltiades_Caridis\" title=\"Miltiades Caridis\">Miltiades Caridis</a></li>\n        <li><a href=\"https://en.wikipedia.org/wiki/Antiochos_Evangelatos\" title=\"Antiochos Evangelatos\">Antiochos Evangelatos</a></li>\n        <li><a href=\"https://en.wikipedia.org/wiki/Eleni_Foureira\" title=\"Eleni Foureira\">Eleni Foureira</a></li>\n        <li><a href=\"https://en.wikipedia.org/wiki/Theodore_Antoniou\" title=\"Theodore Antoniou\">Theodore Antoniou</a></li>\n    </ol>\n    <li><i>Literature</li>\n    <ol>\n        <li><a href=\"https://en.wikipedia.org/wiki/Menis_Koumandareas\" title=\"Menis Koumandareas\">Menis Koumandareas</a></li>\n        <li><a href=\"https://en.wikipedia.org/wiki/Alexandros_Panagoulis\" title=\"Alexandros Panagoulis\">Alexandros Panagoulis</a></li>\n        <li><a href=\"https://en.wikipedia.org/wiki/Odysseas_Elytis\" title=\"Odysseas Elytis\">Odysseas Elytis</a></li>\n        <li><a href=\"https://en.wikipedia.org/wiki/Maria_Polydouri\" title=\"Maria Polydouri\">Maria Polydouri</a></li>\n    </ol>\n</ul>\n"
=======
      "text/html": "# <center>**Greece**</center>\n## <div style=\"color: red;border-radius:8px;border:4px double brown;background: #eee;text-align: center\">Hellenic Republic</div>\n\n\n<center>\n<img src='https://upload.wikimedia.org/wikipedia/commons/thumb/5/5c/Flag_of_Greece.svg/1280px-Flag_of_Greece.svg.png' width=\"200px\" height=\"200px\"/>\n<a href=\"https://en.wikipedia.org/wiki/Greece#/media/File:Flag_of_Greece.svg\">Flag</a>\n</center>\n\n<table>\n    <tr>\n        <th colspan=\"2\">Common data</th>\n    </tr>\n    <tr>\n        <td>Capital</td>\n        <td>Athens</td>\n    </tr>\n    <tr>\n        <td>Religion</td>\n        <td>\n            <li>93% Christianity</li>\n            <li>4% no religion</li>\n            <li>2% Islam</li>\n            <li>1% other</li>\n        </td>\n    </tr>\n    <tr>\n        <td>Population</td>\n        <td>10,482,487</td>\n    </tr>\n    <tr>\n        <td>Official language</td>\n        <td>Greek</td>\n    </tr>\n    <tr>\n        <td>Area</td>\n        <td>131,957km<sup>2</sup></td>\n    </tr>\n    <tr>\n        <td>President</td>\n        <td>Katerina Sakellaropoulou</td>\n    </tr>\n    <tr>\n        <td>Prime minister</td>\n        <td>Kyriakos Mitsotakis</td>\n    </tr>\n</table>\n\nFamous people from Greece:\n<ul>\n    <li><i>Cinema</li>\n    <ol>\n        <li><a href=\"https://en.wikipedia.org/wiki/Pavlos_Kourtidis\" title=\"Pavlos Kourtidis\">Pavlos Kourtidis </a></li>\n        <li><a href=\"https://en.wikipedia.org/wiki/Giorgos_Velentzas\" title=\"Giorgos Velentzas\">Giorgos Velentzas</a></li>\n        <li><a href=\"https://en.wikipedia.org/wiki/Nora_Valsami\" title=\"Nora Valsami\">Nora Valsamiø</a></li>\n        <li><a href=\"https://en.wikipedia.org/wiki/Irene_Papas\" title=\"Irene Papas\">Irene_Papas</a></li>\n    </ol>\n    <li><i>Music</li>\n    <ol>\n        <li><a href=\"https://en.wikipedia.org/wiki/Miltiades_Caridis\" title=\"Miltiades Caridis\">Miltiades Caridis</a></li>\n        <li><a href=\"https://en.wikipedia.org/wiki/Antiochos_Evangelatos\" title=\"Antiochos Evangelatos\">Antiochos Evangelatos</a></li>\n        <li><a href=\"https://en.wikipedia.org/wiki/Eleni_Foureira\" title=\"Eleni Foureira\">Eleni Foureira</a></li>\n        <li><a href=\"https://en.wikipedia.org/wiki/Theodore_Antoniou\" title=\"Theodore Antoniou\">Theodore Antoniou</a></li>\n    </ol>\n    <li><i>Literature</li>\n    <ol>\n        <li><a href=\"https://en.wikipedia.org/wiki/Menis_Koumandareas\" title=\"Menis Koumandareas\">Menis Koumandareas</a></li>\n        <li><a href=\"https://en.wikipedia.org/wiki/Alexandros_Panagoulis\" title=\"Alexandros Panagoulis\">Alexandros Panagoulis</a></li>\n        <li><a href=\"https://en.wikipedia.org/wiki/Odysseas_Elytis\" title=\"Odysseas Elytis\">Odysseas Elytis</a></li>\n        <li><a href=\"https://en.wikipedia.org/wiki/Maria_Polydouri\" title=\"Maria Polydouri\">Maria Polydouri</a></li>\n    </ol>\n</ul>\n"
>>>>>>> origin/master
     },
     "metadata": {},
     "output_type": "display_data"
    }
   ],
   "source": [
    "%%HTML\n",
    "# <center>**Greece**</center>\n",
    "## <div style=\"color: red;border-radius:8px;border:4px double brown;background: #eee;text-align: center\">Hellenic Republiс</div>\n",
    "\n",
    "<center>\n",
    "<img src='https://upload.wikimedia.org/wikipedia/commons/thumb/5/5c/Flag_of_Greece.svg/1280px-Flag_of_Greece.svg.png' width=\"200px\" height=\"200px\"/>\n",
    "<a href=\"https://en.wikipedia.org/wiki/Greece#/media/File:Flag_of_Greece.svg\">Flag</a>\n",
    "</center>\n",
    "\n",
    "<table>\n",
    "    <tr>\n",
    "        <th colspan=\"2\">Common data</th>\n",
    "    </tr>\n",
    "    <tr>\n",
    "        <td>Capital</td>\n",
    "        <td>Athens</td>\n",
    "    </tr>\n",
    "    <tr>\n",
    "        <td>Religion</td>\n",
    "        <td>\n",
    "            <li>93% Christianity</li>\n",
    "            <li>4% no religion</li>\n",
    "            <li>2% Islam</li>\n",
    "            <li>1% other</li>\n",
    "        </td>\n",
    "    </tr>\n",
    "    <tr>\n",
    "        <td>Population</td>\n",
    "        <td>10,482,487</td>\n",
    "    </tr>\n",
    "    <tr>\n",
    "        <td>Official language</td>\n",
    "        <td>Greek</td>\n",
    "    </tr>\n",
    "    <tr>\n",
    "        <td>Area</td>\n",
    "        <td>131,957km<sup>2</sup></td>\n",
    "    </tr>\n",
    "    <tr>\n",
    "        <td>President</td>\n",
    "        <td>Katerina Sakellaropoulou</td>\n",
    "    </tr>\n",
    "    <tr>\n",
    "        <td>Prime minister</td>\n",
    "        <td>Kyriakos Mitsotakis</td>\n",
    "    </tr>\n",
    "</table>\n",
    "\n",
    "Famous people from Greece:\n",
    "<ul>\n",
    "    <li><i>Cinema</li>\n",
    "    <ol>\n",
    "        <li><a href=\"https://en.wikipedia.org/wiki/Pavlos_Kourtidis\" title=\"Pavlos Kourtidis\">Pavlos Kourtidis </a></li>\n",
    "        <li><a href=\"https://en.wikipedia.org/wiki/Giorgos_Velentzas\" title=\"Giorgos Velentzas\">Giorgos Velentzas</a></li>\n",
    "        <li><a href=\"https://en.wikipedia.org/wiki/Nora_Valsami\" title=\"Nora Valsami\">Nora Valsamiø</a></li>\n",
    "        <li><a href=\"https://en.wikipedia.org/wiki/Irene_Papas\" title=\"Irene Papas\">Irene_Papas</a></li>\n",
    "    </ol>\n",
    "    <li><i>Music</li>\n",
    "    <ol>\n",
    "        <li><a href=\"https://en.wikipedia.org/wiki/Miltiades_Caridis\" title=\"Miltiades Caridis\">Miltiades Caridis</a></li>\n",
    "        <li><a href=\"https://en.wikipedia.org/wiki/Antiochos_Evangelatos\" title=\"Antiochos Evangelatos\">Antiochos Evangelatos</a></li>\n",
    "        <li><a href=\"https://en.wikipedia.org/wiki/Eleni_Foureira\" title=\"Eleni Foureira\">Eleni Foureira</a></li>\n",
    "        <li><a href=\"https://en.wikipedia.org/wiki/Theodore_Antoniou\" title=\"Theodore Antoniou\">Theodore Antoniou</a></li>\n",
    "    </ol>\n",
    "    <li><i>Literature</li>\n",
    "    <ol>\n",
    "        <li><a href=\"https://en.wikipedia.org/wiki/Menis_Koumandareas\" title=\"Menis Koumandareas\">Menis Koumandareas</a></li>\n",
    "        <li><a href=\"https://en.wikipedia.org/wiki/Alexandros_Panagoulis\" title=\"Alexandros Panagoulis\">Alexandros Panagoulis</a></li>\n",
    "        <li><a href=\"https://en.wikipedia.org/wiki/Odysseas_Elytis\" title=\"Odysseas Elytis\">Odysseas Elytis</a></li>\n",
    "        <li><a href=\"https://en.wikipedia.org/wiki/Maria_Polydouri\" title=\"Maria Polydouri\">Maria Polydouri</a></li>\n",
    "    </ol>\n",
    "</ul>"
   ],
   "metadata": {
    "collapsed": false
   }
  },
  {
   "cell_type": "code",
   "execution_count": 4,
   "outputs": [],
   "source": [
    "def isPrime(n):\n",
    "    if n % 2 == 0:\n",
    "        return n == 2\n",
    "    k = 3\n",
    "    while k * k <= n and n % k != 0:\n",
    "        k += 2\n",
    "    return k * k > n"
   ],
   "metadata": {
    "collapsed": false
   }
  },
  {
   "cell_type": "code",
   "execution_count": 7,
   "outputs": [],
   "source": [
    "def task5(n):\n",
    "    if n % 2 == 1:\n",
    "        return f\"Число {n} є непарним!\"\n",
    "    for i in range(2, n):\n",
    "        if isPrime(n - i) and isPrime(i):\n",
    "            return f\"Число {n} можна представити як {i} + {n - i}\"\n"
   ],
   "metadata": {
    "collapsed": false
   }
  },
  {
   "cell_type": "code",
   "execution_count": 8,
   "outputs": [
    {
     "name": "stdout",
     "output_type": "stream",
     "text": [
      "Число 21442411291 є непарним!\n",
      "Число 6 можна представити як 3 + 3\n",
      "Число 28 можна представити як 5 + 23\n",
      "Число 2048 можна представити як 19 + 2029\n",
      "Число 88888888 можна представити як 5 + 88888883\n",
      "Число 24112412290 можна представити як 11 + 24112412279\n"
     ]
    }
   ],
   "source": [
    "print(task5(21442411291))\n",
    "print(task5(6))\n",
    "print(task5(28))\n",
    "print(task5(2048))\n",
    "print(task5(88888888))\n",
    "print(task5(24112412290))"
   ],
   "metadata": {
    "collapsed": false
   }
  }
 ],
 "metadata": {
  "kernelspec": {
   "display_name": "Python 3",
   "language": "python",
   "name": "python3"
  },
  "language_info": {
   "codemirror_mode": {
    "name": "ipython",
    "version": 2
   },
   "file_extension": ".py",
   "mimetype": "text/x-python",
   "name": "python",
   "nbconvert_exporter": "python",
   "pygments_lexer": "ipython2",
   "version": "2.7.6"
  }
 },
 "nbformat": 4,
 "nbformat_minor": 0
}
