{
 "cells": [
  {
   "cell_type": "code",
   "execution_count": 1,
   "metadata": {
    "collapsed": true
   },
   "outputs": [],
   "source": [
    "import numpy as np\n",
    "import pandas as pd\n",
    "import matplotlib as mp"
   ]
  },
  {
   "cell_type": "code",
   "execution_count": 5,
   "outputs": [
    {
     "data": {
      "text/plain": "              Id       Name  Year Gender  Count\n0              1       Mary  1880      F   7065\n1              2       Anna  1880      F   2604\n2              3       Emma  1880      F   2003\n3              4  Elizabeth  1880      F   1939\n4              5     Minnie  1880      F   1746\n...          ...        ...   ...    ...    ...\n1825428  1825429     Zykeem  2014      M      5\n1825429  1825430     Zymeer  2014      M      5\n1825430  1825431    Zymiere  2014      M      5\n1825431  1825432      Zyran  2014      M      5\n1825432  1825433      Zyrin  2014      M      5\n\n[1825433 rows x 5 columns]",
      "text/html": "<div>\n<style scoped>\n    .dataframe tbody tr th:only-of-type {\n        vertical-align: middle;\n    }\n\n    .dataframe tbody tr th {\n        vertical-align: top;\n    }\n\n    .dataframe thead th {\n        text-align: right;\n    }\n</style>\n<table border=\"1\" class=\"dataframe\">\n  <thead>\n    <tr style=\"text-align: right;\">\n      <th></th>\n      <th>Id</th>\n      <th>Name</th>\n      <th>Year</th>\n      <th>Gender</th>\n      <th>Count</th>\n    </tr>\n  </thead>\n  <tbody>\n    <tr>\n      <th>0</th>\n      <td>1</td>\n      <td>Mary</td>\n      <td>1880</td>\n      <td>F</td>\n      <td>7065</td>\n    </tr>\n    <tr>\n      <th>1</th>\n      <td>2</td>\n      <td>Anna</td>\n      <td>1880</td>\n      <td>F</td>\n      <td>2604</td>\n    </tr>\n    <tr>\n      <th>2</th>\n      <td>3</td>\n      <td>Emma</td>\n      <td>1880</td>\n      <td>F</td>\n      <td>2003</td>\n    </tr>\n    <tr>\n      <th>3</th>\n      <td>4</td>\n      <td>Elizabeth</td>\n      <td>1880</td>\n      <td>F</td>\n      <td>1939</td>\n    </tr>\n    <tr>\n      <th>4</th>\n      <td>5</td>\n      <td>Minnie</td>\n      <td>1880</td>\n      <td>F</td>\n      <td>1746</td>\n    </tr>\n    <tr>\n      <th>...</th>\n      <td>...</td>\n      <td>...</td>\n      <td>...</td>\n      <td>...</td>\n      <td>...</td>\n    </tr>\n    <tr>\n      <th>1825428</th>\n      <td>1825429</td>\n      <td>Zykeem</td>\n      <td>2014</td>\n      <td>M</td>\n      <td>5</td>\n    </tr>\n    <tr>\n      <th>1825429</th>\n      <td>1825430</td>\n      <td>Zymeer</td>\n      <td>2014</td>\n      <td>M</td>\n      <td>5</td>\n    </tr>\n    <tr>\n      <th>1825430</th>\n      <td>1825431</td>\n      <td>Zymiere</td>\n      <td>2014</td>\n      <td>M</td>\n      <td>5</td>\n    </tr>\n    <tr>\n      <th>1825431</th>\n      <td>1825432</td>\n      <td>Zyran</td>\n      <td>2014</td>\n      <td>M</td>\n      <td>5</td>\n    </tr>\n    <tr>\n      <th>1825432</th>\n      <td>1825433</td>\n      <td>Zyrin</td>\n      <td>2014</td>\n      <td>M</td>\n      <td>5</td>\n    </tr>\n  </tbody>\n</table>\n<p>1825433 rows × 5 columns</p>\n</div>"
     },
     "execution_count": 5,
     "metadata": {},
     "output_type": "execute_result"
    }
   ],
   "source": [
    "data = pd.read_csv('NationalNames.csv')"
   ],
   "metadata": {
    "collapsed": false
   }
  },
  {
   "cell_type": "code",
   "execution_count": 10,
   "outputs": [
    {
     "data": {
      "text/plain": "   Id       Name  Year Gender  Count\n0   1       Mary  1880      F   7065\n1   2       Anna  1880      F   2604\n2   3       Emma  1880      F   2003\n3   4  Elizabeth  1880      F   1939\n4   5     Minnie  1880      F   1746\n5   6   Margaret  1880      F   1578\n6   7        Ida  1880      F   1472\n7   8      Alice  1880      F   1414",
      "text/html": "<div>\n<style scoped>\n    .dataframe tbody tr th:only-of-type {\n        vertical-align: middle;\n    }\n\n    .dataframe tbody tr th {\n        vertical-align: top;\n    }\n\n    .dataframe thead th {\n        text-align: right;\n    }\n</style>\n<table border=\"1\" class=\"dataframe\">\n  <thead>\n    <tr style=\"text-align: right;\">\n      <th></th>\n      <th>Id</th>\n      <th>Name</th>\n      <th>Year</th>\n      <th>Gender</th>\n      <th>Count</th>\n    </tr>\n  </thead>\n  <tbody>\n    <tr>\n      <th>0</th>\n      <td>1</td>\n      <td>Mary</td>\n      <td>1880</td>\n      <td>F</td>\n      <td>7065</td>\n    </tr>\n    <tr>\n      <th>1</th>\n      <td>2</td>\n      <td>Anna</td>\n      <td>1880</td>\n      <td>F</td>\n      <td>2604</td>\n    </tr>\n    <tr>\n      <th>2</th>\n      <td>3</td>\n      <td>Emma</td>\n      <td>1880</td>\n      <td>F</td>\n      <td>2003</td>\n    </tr>\n    <tr>\n      <th>3</th>\n      <td>4</td>\n      <td>Elizabeth</td>\n      <td>1880</td>\n      <td>F</td>\n      <td>1939</td>\n    </tr>\n    <tr>\n      <th>4</th>\n      <td>5</td>\n      <td>Minnie</td>\n      <td>1880</td>\n      <td>F</td>\n      <td>1746</td>\n    </tr>\n    <tr>\n      <th>5</th>\n      <td>6</td>\n      <td>Margaret</td>\n      <td>1880</td>\n      <td>F</td>\n      <td>1578</td>\n    </tr>\n    <tr>\n      <th>6</th>\n      <td>7</td>\n      <td>Ida</td>\n      <td>1880</td>\n      <td>F</td>\n      <td>1472</td>\n    </tr>\n    <tr>\n      <th>7</th>\n      <td>8</td>\n      <td>Alice</td>\n      <td>1880</td>\n      <td>F</td>\n      <td>1414</td>\n    </tr>\n  </tbody>\n</table>\n</div>"
     },
     "execution_count": 10,
     "metadata": {},
     "output_type": "execute_result"
    }
   ],
   "source": [
    "def task1():\n",
    "    return data.iloc[:8]\n",
    "\n",
    "task1()"
   ],
   "metadata": {
    "collapsed": false
   }
  },
  {
   "cell_type": "code",
   "execution_count": 14,
   "outputs": [
    {
     "data": {
      "text/plain": "              Id     Name  Year Gender  Count\n1825425  1825426       Zo  2014      M      5\n1825426  1825427    Zyeir  2014      M      5\n1825427  1825428     Zyel  2014      M      5\n1825428  1825429   Zykeem  2014      M      5\n1825429  1825430   Zymeer  2014      M      5\n1825430  1825431  Zymiere  2014      M      5\n1825431  1825432    Zyran  2014      M      5\n1825432  1825433    Zyrin  2014      M      5",
      "text/html": "<div>\n<style scoped>\n    .dataframe tbody tr th:only-of-type {\n        vertical-align: middle;\n    }\n\n    .dataframe tbody tr th {\n        vertical-align: top;\n    }\n\n    .dataframe thead th {\n        text-align: right;\n    }\n</style>\n<table border=\"1\" class=\"dataframe\">\n  <thead>\n    <tr style=\"text-align: right;\">\n      <th></th>\n      <th>Id</th>\n      <th>Name</th>\n      <th>Year</th>\n      <th>Gender</th>\n      <th>Count</th>\n    </tr>\n  </thead>\n  <tbody>\n    <tr>\n      <th>1825425</th>\n      <td>1825426</td>\n      <td>Zo</td>\n      <td>2014</td>\n      <td>M</td>\n      <td>5</td>\n    </tr>\n    <tr>\n      <th>1825426</th>\n      <td>1825427</td>\n      <td>Zyeir</td>\n      <td>2014</td>\n      <td>M</td>\n      <td>5</td>\n    </tr>\n    <tr>\n      <th>1825427</th>\n      <td>1825428</td>\n      <td>Zyel</td>\n      <td>2014</td>\n      <td>M</td>\n      <td>5</td>\n    </tr>\n    <tr>\n      <th>1825428</th>\n      <td>1825429</td>\n      <td>Zykeem</td>\n      <td>2014</td>\n      <td>M</td>\n      <td>5</td>\n    </tr>\n    <tr>\n      <th>1825429</th>\n      <td>1825430</td>\n      <td>Zymeer</td>\n      <td>2014</td>\n      <td>M</td>\n      <td>5</td>\n    </tr>\n    <tr>\n      <th>1825430</th>\n      <td>1825431</td>\n      <td>Zymiere</td>\n      <td>2014</td>\n      <td>M</td>\n      <td>5</td>\n    </tr>\n    <tr>\n      <th>1825431</th>\n      <td>1825432</td>\n      <td>Zyran</td>\n      <td>2014</td>\n      <td>M</td>\n      <td>5</td>\n    </tr>\n    <tr>\n      <th>1825432</th>\n      <td>1825433</td>\n      <td>Zyrin</td>\n      <td>2014</td>\n      <td>M</td>\n      <td>5</td>\n    </tr>\n  </tbody>\n</table>\n</div>"
     },
     "execution_count": 14,
     "metadata": {},
     "output_type": "execute_result"
    }
   ],
   "source": [
    "def task2():\n",
    "    return data[-8:]\n",
    "\n",
    "task2()"
   ],
   "metadata": {
    "collapsed": false
   }
  },
  {
   "cell_type": "code",
   "execution_count": 16,
   "outputs": [
    {
     "data": {
      "text/plain": "Index(['Id', 'Name', 'Year', 'Gender', 'Count'], dtype='object')"
     },
     "execution_count": 16,
     "metadata": {},
     "output_type": "execute_result"
    }
   ],
   "source": [
    "def task3():\n",
    "    return data.columns\n",
    "\n",
    "task3()"
   ],
   "metadata": {
    "collapsed": false
   }
  },
  {
   "cell_type": "code",
   "execution_count": 17,
   "outputs": [
    {
     "data": {
      "text/plain": "93889"
     },
     "execution_count": 17,
     "metadata": {},
     "output_type": "execute_result"
    }
   ],
   "source": [
    "def task5():\n",
    "    return data['Name'].nunique()\n",
    "\n",
    "task5()"
   ],
   "metadata": {
    "collapsed": false
   }
  },
  {
   "cell_type": "code",
   "execution_count": 29,
   "outputs": [
    {
     "data": {
      "text/plain": "Year\n1880     1889\n1881     1830\n1882     2012\n1883     1962\n1884     2158\n        ...  \n2010    31603\n2011    31418\n2012    31236\n2013    30774\n2014    30579\nName: Name, Length: 135, dtype: int64"
     },
     "execution_count": 29,
     "metadata": {},
     "output_type": "execute_result"
    }
   ],
   "source": [
    "def task10():\n",
    "    return data.groupby('Year')['Name'].nunique()\n",
    "\n",
    "task10()"
   ],
   "metadata": {
    "collapsed": false
   }
  },
  {
   "cell_type": "code",
   "execution_count": 39,
   "outputs": [
    {
     "data": {
      "text/plain": "Year\n2008    32488\nName: Name, dtype: int64"
     },
     "execution_count": 39,
     "metadata": {},
     "output_type": "execute_result"
    }
   ],
   "source": [
    "def task11():\n",
    "    unique_by_year = task10()\n",
    "    return unique_by_year[unique_by_year == unique_by_year.max()]\n",
    "\n",
    "task11()"
   ],
   "metadata": {
    "collapsed": false
   }
  },
  {
   "cell_type": "code",
   "execution_count": 60,
   "outputs": [
    {
     "data": {
      "text/plain": "'Jacob'"
     },
     "execution_count": 60,
     "metadata": {},
     "output_type": "execute_result"
    }
   ],
   "source": [
    "def task12():\n",
    "    data_for_2008 = data[data.Year == task11().index[0]]\n",
    "    return data.iloc[data_for_2008['Count'].idxmax()]['Name']\n",
    "\n",
    "task12()"
   ],
   "metadata": {
    "collapsed": false
   }
  },
  {
   "cell_type": "code",
   "execution_count": 74,
   "outputs": [
    {
     "name": "stderr",
     "output_type": "stream",
     "text": [
      "C:\\Users\\SONTAX\\AppData\\Local\\Temp\\ipykernel_11504\\1112043024.py:2: UserWarning: Boolean Series key will be reindexed to match DataFrame index.\n",
      "  return pd.DataFrame(data.iloc[data[data.Name == 'Jacob'][data.Gender == 'F']['Count'].idxmax()]).T\n"
     ]
    },
    {
     "data": {
      "text/plain": "              Id   Name  Year Gender Count\n1455556  1455557  Jacob  2004      F   171",
      "text/html": "<div>\n<style scoped>\n    .dataframe tbody tr th:only-of-type {\n        vertical-align: middle;\n    }\n\n    .dataframe tbody tr th {\n        vertical-align: top;\n    }\n\n    .dataframe thead th {\n        text-align: right;\n    }\n</style>\n<table border=\"1\" class=\"dataframe\">\n  <thead>\n    <tr style=\"text-align: right;\">\n      <th></th>\n      <th>Id</th>\n      <th>Name</th>\n      <th>Year</th>\n      <th>Gender</th>\n      <th>Count</th>\n    </tr>\n  </thead>\n  <tbody>\n    <tr>\n      <th>1455556</th>\n      <td>1455557</td>\n      <td>Jacob</td>\n      <td>2004</td>\n      <td>F</td>\n      <td>171</td>\n    </tr>\n  </tbody>\n</table>\n</div>"
     },
     "execution_count": 74,
     "metadata": {},
     "output_type": "execute_result"
    }
   ],
   "source": [
    "def task13():\n",
    "    return pd.DataFrame(data.iloc[data[data.Name == 'Jacob'][data.Gender == 'F']['Count'].idxmax()]).T\n",
    "\n",
    "task13()"
   ],
   "metadata": {
    "collapsed": false
   }
  },
  {
   "cell_type": "code",
   "execution_count": 214,
   "outputs": [
    {
     "data": {
      "text/plain": "      Gender_neutral_names\n2008                  2557",
      "text/html": "<div>\n<style scoped>\n    .dataframe tbody tr th:only-of-type {\n        vertical-align: middle;\n    }\n\n    .dataframe tbody tr th {\n        vertical-align: top;\n    }\n\n    .dataframe thead th {\n        text-align: right;\n    }\n</style>\n<table border=\"1\" class=\"dataframe\">\n  <thead>\n    <tr style=\"text-align: right;\">\n      <th></th>\n      <th>Gender_neutral_names</th>\n    </tr>\n  </thead>\n  <tbody>\n    <tr>\n      <th>2008</th>\n      <td>2557</td>\n    </tr>\n  </tbody>\n</table>\n</div>"
     },
     "execution_count": 214,
     "metadata": {},
     "output_type": "execute_result"
    }
   ],
   "source": [
    "def task14():\n",
    "    names_by_gender = pd.DataFrame(data.groupby(['Year', 'Name'])['Gender'].count())\n",
    "    gender_neutral = names_by_gender[names_by_gender.Gender == 2].reset_index().groupby('Year')['Name'].count()\n",
    "    gender_neutral = pd.DataFrame({'Gender_neutral_names':gender_neutral})\n",
    "    return pd.DataFrame(gender_neutral.loc[gender_neutral['Gender_neutral_names'].idxmax()]).T\n",
    "\n",
    "task14()"
   ],
   "metadata": {
    "collapsed": false
   }
  },
  {
   "cell_type": "code",
   "execution_count": 95,
   "outputs": [
    {
     "data": {
      "text/plain": "Year\n1880     201484\n1881     192699\n1882     221538\n1883     216950\n1884     243467\n         ...   \n2010    3686589\n2011    3646730\n2012    3643336\n2013    3626802\n2014    3670151\nName: Count, Length: 135, dtype: int64"
     },
     "execution_count": 95,
     "metadata": {},
     "output_type": "execute_result"
    }
   ],
   "source": [
    "def task15():\n",
    "    return data.groupby('Year')['Count'].sum()\n",
    "\n",
    "task15()"
   ],
   "metadata": {
    "collapsed": false
   }
  },
  {
   "cell_type": "code",
   "execution_count": 151,
   "outputs": [
    {
     "data": {
      "text/plain": "1957"
     },
     "execution_count": 151,
     "metadata": {},
     "output_type": "execute_result"
    }
   ],
   "source": [
    "def task16():\n",
    "    total_born = pd.DataFrame(task15()).reset_index()\n",
    "    return total_born.loc[total_born['Count'].idxmax()]['Year']\n",
    "\n",
    "task16()"
   ],
   "metadata": {
    "collapsed": false
   }
  },
  {
   "cell_type": "code",
   "execution_count": 181,
   "outputs": [
    {
     "data": {
      "text/plain": "            F        M\n1880    90993   110491\n1881    91954   100745\n1882   107850   113688\n1883   112321   104629\n1884   129022   114445\n...       ...      ...\n2010  1772738  1913851\n2011  1753500  1893230\n2012  1753922  1889414\n2013  1745339  1881463\n2014  1768775  1901376\n\n[135 rows x 2 columns]",
      "text/html": "<div>\n<style scoped>\n    .dataframe tbody tr th:only-of-type {\n        vertical-align: middle;\n    }\n\n    .dataframe tbody tr th {\n        vertical-align: top;\n    }\n\n    .dataframe thead th {\n        text-align: right;\n    }\n</style>\n<table border=\"1\" class=\"dataframe\">\n  <thead>\n    <tr style=\"text-align: right;\">\n      <th></th>\n      <th>F</th>\n      <th>M</th>\n    </tr>\n  </thead>\n  <tbody>\n    <tr>\n      <th>1880</th>\n      <td>90993</td>\n      <td>110491</td>\n    </tr>\n    <tr>\n      <th>1881</th>\n      <td>91954</td>\n      <td>100745</td>\n    </tr>\n    <tr>\n      <th>1882</th>\n      <td>107850</td>\n      <td>113688</td>\n    </tr>\n    <tr>\n      <th>1883</th>\n      <td>112321</td>\n      <td>104629</td>\n    </tr>\n    <tr>\n      <th>1884</th>\n      <td>129022</td>\n      <td>114445</td>\n    </tr>\n    <tr>\n      <th>...</th>\n      <td>...</td>\n      <td>...</td>\n    </tr>\n    <tr>\n      <th>2010</th>\n      <td>1772738</td>\n      <td>1913851</td>\n    </tr>\n    <tr>\n      <th>2011</th>\n      <td>1753500</td>\n      <td>1893230</td>\n    </tr>\n    <tr>\n      <th>2012</th>\n      <td>1753922</td>\n      <td>1889414</td>\n    </tr>\n    <tr>\n      <th>2013</th>\n      <td>1745339</td>\n      <td>1881463</td>\n    </tr>\n    <tr>\n      <th>2014</th>\n      <td>1768775</td>\n      <td>1901376</td>\n    </tr>\n  </tbody>\n</table>\n<p>135 rows × 2 columns</p>\n</div>"
     },
     "execution_count": 181,
     "metadata": {},
     "output_type": "execute_result"
    }
   ],
   "source": [
    "def task17():\n",
    "    count_by_gender = pd.DataFrame(data.groupby(['Year','Gender'])['Count'].sum()).reset_index()\n",
    "    males = count_by_gender[count_by_gender['Gender'] == 'M']\n",
    "    males = pd.Series(np.array(males['Count']), index=np.array(males['Year']), name='M')\n",
    "    females = count_by_gender[count_by_gender['Gender'] == 'F']\n",
    "    females = pd.Series(np.array(females['Count']), index=np.array(females['Year']), name='F')\n",
    "    return pd.DataFrame({'F':females, 'M':males})\n",
    "\n",
    "task17()"
   ],
   "metadata": {
    "collapsed": false
   }
  },
  {
   "cell_type": "code",
   "execution_count": 188,
   "outputs": [
    {
     "data": {
      "text/plain": "54"
     },
     "execution_count": 188,
     "metadata": {},
     "output_type": "execute_result"
    }
   ],
   "source": [
    "def task18():\n",
    "    count_by_gender = task17()\n",
    "    return  count_by_gender[count_by_gender['F'] > count_by_gender['M']].count()[0]\n",
    "\n",
    "task18()"
   ],
   "metadata": {
    "collapsed": false
   }
  },
  {
   "cell_type": "code",
   "execution_count": 197,
   "outputs": [
    {
     "data": {
      "text/plain": "4139"
     },
     "execution_count": 197,
     "metadata": {},
     "output_type": "execute_result"
    }
   ],
   "source": [
    "def task21():\n",
    "    males = data[data.Gender == 'M']\n",
    "    return males[males.Name == 'Barbara']['Count'].sum()\n",
    "\n",
    "task21()"
   ],
   "metadata": {
    "collapsed": false
   }
  },
  {
   "cell_type": "code",
   "execution_count": 213,
   "outputs": [
    {
     "data": {
      "text/plain": "'Спостереження проводилось 135 років'"
     },
     "execution_count": 213,
     "metadata": {},
     "output_type": "execute_result"
    }
   ],
   "source": [
    "def task22():\n",
    "    return f'Спостереження проводилось {data.groupby(\"Year\")[\"Gender\"].all().count()} років'\n",
    "\n",
    "task22()"
   ],
   "metadata": {
    "collapsed": false
   }
  },
  {
   "cell_type": "code",
   "execution_count": 224,
   "outputs": [
    {
     "data": {
      "text/plain": "          0\n0   Francis\n1     James\n2      Jean\n3     Jesse\n4    Jessie\n5      John\n6   Johnnie\n7    Joseph\n8       Lee\n9    Leslie\n10   Marion\n11    Ollie\n12   Robert\n13   Sidney\n14   Tommie\n15  William",
      "text/html": "<div>\n<style scoped>\n    .dataframe tbody tr th:only-of-type {\n        vertical-align: middle;\n    }\n\n    .dataframe tbody tr th {\n        vertical-align: top;\n    }\n\n    .dataframe thead th {\n        text-align: right;\n    }\n</style>\n<table border=\"1\" class=\"dataframe\">\n  <thead>\n    <tr style=\"text-align: right;\">\n      <th></th>\n      <th>0</th>\n    </tr>\n  </thead>\n  <tbody>\n    <tr>\n      <th>0</th>\n      <td>Francis</td>\n    </tr>\n    <tr>\n      <th>1</th>\n      <td>James</td>\n    </tr>\n    <tr>\n      <th>2</th>\n      <td>Jean</td>\n    </tr>\n    <tr>\n      <th>3</th>\n      <td>Jesse</td>\n    </tr>\n    <tr>\n      <th>4</th>\n      <td>Jessie</td>\n    </tr>\n    <tr>\n      <th>5</th>\n      <td>John</td>\n    </tr>\n    <tr>\n      <th>6</th>\n      <td>Johnnie</td>\n    </tr>\n    <tr>\n      <th>7</th>\n      <td>Joseph</td>\n    </tr>\n    <tr>\n      <th>8</th>\n      <td>Lee</td>\n    </tr>\n    <tr>\n      <th>9</th>\n      <td>Leslie</td>\n    </tr>\n    <tr>\n      <th>10</th>\n      <td>Marion</td>\n    </tr>\n    <tr>\n      <th>11</th>\n      <td>Ollie</td>\n    </tr>\n    <tr>\n      <th>12</th>\n      <td>Robert</td>\n    </tr>\n    <tr>\n      <th>13</th>\n      <td>Sidney</td>\n    </tr>\n    <tr>\n      <th>14</th>\n      <td>Tommie</td>\n    </tr>\n    <tr>\n      <th>15</th>\n      <td>William</td>\n    </tr>\n  </tbody>\n</table>\n</div>"
     },
     "execution_count": 224,
     "metadata": {},
     "output_type": "execute_result"
    }
   ],
   "source": [
    "def task23():\n",
    "    names_by_gender = pd.DataFrame(data.groupby(['Year', 'Name'])['Gender'].count())\n",
    "    gender_neutral = names_by_gender[names_by_gender.Gender == 2].reset_index()\n",
    "    gender_neutral = pd.DataFrame({'Gender_neutral_names':gender_neutral['Name'], 'Year':gender_neutral['Year']})\n",
    "    gender_neutral = gender_neutral.groupby('Gender_neutral_names').count().reset_index()\n",
    "    gender_neutral = gender_neutral[gender_neutral['Year'] == data.groupby(\"Year\")[\"Gender\"].all().count()].reset_index()\n",
    "    return pd.DataFrame({'0':gender_neutral['Gender_neutral_names']})\n",
    "\n",
    "task23()"
   ],
   "metadata": {
    "collapsed": false
   }
  },
  {
   "cell_type": "code",
   "execution_count": 238,
   "outputs": [
    {
     "data": {
      "text/plain": "<Axes: >"
     },
     "execution_count": 238,
     "metadata": {},
     "output_type": "execute_result"
    },
    {
     "data": {
      "text/plain": "<Figure size 640x480 with 1 Axes>",
      "image/png": "[encoded data removed]"
     },
     "metadata": {},
     "output_type": "display_data"
    }
   ],
   "source": [
    "def task26():\n",
    "    males = data[data['Gender'] == 'M']\n",
    "    mary_males = males[males['Name'] == 'Mary']\n",
    "    mary_males = pd.Series(np.array(mary_males['Count']), index=np.array(mary_males['Year']))\n",
    "    females = data[data['Gender'] == 'F']\n",
    "    john_females = females[females['Name'] == 'John']\n",
    "    john_females = pd.Series(np.array(john_females['Count']), index=np.array(john_females['Year']))\n",
    "    df = pd.DataFrame({'John':john_females, 'Mary':mary_males})\n",
    "    return df.plot()\n",
    "\n",
    "task26()"
   ],
   "metadata": {
    "collapsed": false
   }
  }
 ],
 "metadata": {
  "kernelspec": {
   "display_name": "Python 3",
   "language": "python",
   "name": "python3"
  },
  "language_info": {
   "codemirror_mode": {
    "name": "ipython",
    "version": 2
   },
   "file_extension": ".py",
   "mimetype": "text/x-python",
   "name": "python",
   "nbconvert_exporter": "python",
   "pygments_lexer": "ipython2",
   "version": "2.7.6"
  }
 },
 "nbformat": 4,
 "nbformat_minor": 0
}
